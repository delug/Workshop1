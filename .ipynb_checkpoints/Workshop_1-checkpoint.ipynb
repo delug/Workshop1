{
 "cells": [
  {
   "cell_type": "markdown",
   "metadata": {},
   "source": [
    "# A Quick and Dirty Intro to Python\n",
    "\n",
    "In this notebook you'll work with a wide variety of the most commonly employed tools in python. We'll begin with a brief overview of the history of python, how to set up your python environment and then declare your first variables! We'll talk about the different data types, and some of the more advanced data structures as well as foundational syntax such as for loops, conditionals and keywords.\n",
    "* Python Basics\n",
    "    * Variable Declarations\n",
    "    * Indentation\n",
    "    * Conditionals\n",
    "    * Loops\n",
    "    * Data types"
   ]
  },
  {
   "cell_type": "markdown",
   "metadata": {},
   "source": [
    "## Python Basics\n",
    "\n",
    "### Data Types\n",
    "\n",
    "#### Numbers\n",
    "\n",
    "Let's start off with defining data types. These are what ultimately drive a programming language, and tend to vary between languages. One broad category of data types is that of numbers. In Python, we have 3 types of numbers: integer (`int`), floating-point (`float`), and complex (`complex`)."
   ]
  },
  {
   "cell_type": "code",
   "execution_count": 1,
   "metadata": {},
   "outputs": [
    {
     "name": "stdout",
     "output_type": "stream",
     "text": [
      "3 is of type <class 'int'>\n",
      "3.1 is of type <class 'float'>\n",
      "(3.1+4j) is of type <class 'complex'>\n"
     ]
    }
   ],
   "source": [
    "a= 3 # Integer/int\n",
    "\n",
    "print(a, \"is of type\", type(a))\n",
    "\n",
    "a= 3.1 # Floating-point/float\n",
    "\n",
    "print(a, \"is of type\", type(a))\n",
    "\n",
    "a= 3.1+4j # Complex/complex\n",
    "\n",
    "print(a, \"is of type\", type(a))"
   ]
  },
  {
   "cell_type": "markdown",
   "metadata": {},
   "source": [
    "**Remark:** Notice how we never declared the *type* of the variable `a`, and that python had no issue putting a float in `a` even though it was previously an integer. This is because Python is a **dynamically typed** language."
   ]
  },
  {
   "cell_type": "markdown",
   "metadata": {},
   "source": [
    "For this workshop, we won't work much with complex numbers since their use case for most people taking this workshop will be exceptionally limited. We'll now focus on just floats and integers. Let's see some basic operations on these numbers."
   ]
  },
  {
   "cell_type": "code",
   "execution_count": 17,
   "metadata": {},
   "outputs": [
    {
     "name": "stdout",
     "output_type": "stream",
     "text": [
      "a: 2\n",
      "b: 3.5\n",
      "c: 6\n",
      "\n",
      "a+b: 5.5\n",
      "a*b: 7.0\n",
      "a*c: 12\n",
      "c/a: 3.0\n",
      "b/c: 0.5833333333333334\n",
      "b//c: 0.0\n",
      "c/a: 3.0\n",
      "c//a: 3\n"
     ]
    }
   ],
   "source": [
    "a=2\n",
    "b=3.5\n",
    "c=6\n",
    "print(\"a:\",a)\n",
    "print(\"b:\",b)\n",
    "print(\"c:\",c)\n",
    "\n",
    "print()\n",
    "\n",
    "print(\"a+b:\",a+b) # Addition. If one argument is a float, even if the other is an integer, the result gets \"promoted\" to a float\n",
    "\n",
    "print(\"a*b:\",a*b) # Multiplication. If one argument is a float, even if the other is an integer, the result gets \"promoted\" to a float\n",
    "\n",
    "print(\"a*c:\",a*c) # Multiplication.\n",
    "\n",
    "print(\"c/a:\",c/a) # Float division. Even when a evenly divides c and both are integers, \n",
    "                  # c/a is still a float for the sake of maintaining precision\n",
    "\n",
    "print(\"b/c:\",b/c) # The output is a float with finite precision (no infinite repeating decimals) \n",
    "\n",
    "print(\"b//c:\",b//c) # Integer division. This acts as regular float division but rounds down\n",
    "\n",
    "print(\"c/a:\",c/a) # If both arguments for division are integers, then the float division still outputs a float\n",
    "\n",
    "print(\"c//a:\",c//a) # But the integer division results in an integer!"
   ]
  },
  {
   "cell_type": "markdown",
   "metadata": {},
   "source": [
    "Now for floats and ints we have some convenient *assignment operators* we can use which are just shorthand for equivelant expressions, but make our lives much easier."
   ]
  },
  {
   "cell_type": "code",
   "execution_count": 8,
   "metadata": {},
   "outputs": [
    {
     "name": "stdout",
     "output_type": "stream",
     "text": [
      "4\n",
      "5\n",
      "10\n",
      "5.0\n",
      "2.0\n"
     ]
    }
   ],
   "source": [
    "a=4\n",
    "print(a)\n",
    "a+=1 # Equivalent to a= a+1\n",
    "print(a)\n",
    "a*=2 # Equivalent to a= a*2\n",
    "print(a)\n",
    "a/=2 # Equivalent to a= a/2\n",
    "print(a)\n",
    "a//=2 # Equivalent to a= a//2\n",
    "print(a)"
   ]
  },
  {
   "cell_type": "markdown",
   "metadata": {},
   "source": [
    "**Remark:** Notice that we don't end our lines with semicolons \";\". Unlike in other languages, you don't need to end lines in semicolons for python. In fact, it's generally considered better etiquette to omit them."
   ]
  },
  {
   "cell_type": "markdown",
   "metadata": {},
   "source": [
    "Aside from numbers, we also have a data type known as a boolean:"
   ]
  },
  {
   "cell_type": "code",
   "execution_count": 9,
   "metadata": {},
   "outputs": [
    {
     "name": "stdout",
     "output_type": "stream",
     "text": [
      "True is of type <class 'bool'>\n",
      "False is of type <class 'bool'>\n"
     ]
    }
   ],
   "source": [
    "a=True # Boolean True\n",
    "\n",
    "print(a, \"is of type\", type(a))\n",
    "\n",
    "a=False # Boolean False\n",
    "\n",
    "print(a, \"is of type\", type(a))"
   ]
  },
  {
   "cell_type": "markdown",
   "metadata": {},
   "source": [
    "Now is a good time to introduce functions. Functions are just blocks of code which can be run on a provided input, complete some actions, and give a return value. We'll be using functions a lot, and they're some of the most ubiquitous coding tools out there. Here's some example syntax"
   ]
  },
  {
   "cell_type": "code",
   "execution_count": 25,
   "metadata": {},
   "outputs": [
    {
     "name": "stdout",
     "output_type": "stream",
     "text": [
      "Our function is about to complete!\n",
      "3\n",
      "Our function is about to complete!\n",
      "12\n",
      "Our function is about to complete!\n",
      "27\n"
     ]
    }
   ],
   "source": [
    "def ourFunction(x):\n",
    "    y=x*3\n",
    "    z=y*x\n",
    "    print(\"Our function is about to complete!\")\n",
    "    return z # Equivelant to return x*x*3\n",
    "\n",
    "print(ourFunction(1))\n",
    "print(ourFunction(2))\n",
    "print(ourFunction(3))\n"
   ]
  },
  {
   "cell_type": "markdown",
   "metadata": {},
   "source": [
    "Function declarations begin with `def` and then our function name, in this case `ourFunction` followed by `(arg1,arg2,...)` where arg1,arg2,... represents however many inputs we want our function to take in. In this case, we only took in one argument: x. Just as well, we could've taken in two or even three arguments. Finally, we include a colon at the end to mark the beginning of the main body of code. After the colon, all lines of code which belong to that function will be **indented** ending when we reach a line of code that isn't indented to match the function body. An **indent** in python is **4 spaces, not a tab**. This is often the bane of many new programmers. Jupyter is nice enough to automatically convert a tab press to 4 white spaces for you, but other programs may not be. Just be aware! For those of you that are used to other languages, you'll notice that python **does not use {} for function bodies** "
   ]
  },
  {
   "cell_type": "markdown",
   "metadata": {},
   "source": [
    "***Practice Problem:*** Write a function takes two arguments x and y and returns x divided by y."
   ]
  },
  {
   "cell_type": "code",
   "execution_count": null,
   "metadata": {},
   "outputs": [],
   "source": [
    "def divide(x, y):\n",
    "    quotient = 0\n",
    "    # define quotient in the line below (you only need one line!)\n",
    "    \n",
    "    return quotient\n",
    "\n",
    "# Some function tests are below\n",
    "print(divide(4, 2)) # should return 2\n",
    "print(divide(20, 4)) # should return 5\n",
    "print(divide(3, 2)) # should return 1.5"
   ]
  },
  {
   "cell_type": "markdown",
   "metadata": {},
   "source": [
    "#### Sequences\n",
    "\n",
    "Next we have what're known as \"Sequence\" data types. These are incredibly robust and will appear quite frequently, so take note! We have 3 types: String (`str`), `list`, and `tuple`. They all are collections of elements, with Strings being restricted to being a collection of individual characters while lists and tuples can be composed of any elements. In order to access an element in the collection, you must refer to its \"index\" which is just the element's location within the collection. The first element is at index 0, the second at index 1, etc... "
   ]
  },
  {
   "cell_type": "code",
   "execution_count": 55,
   "metadata": {},
   "outputs": [
    {
     "name": "stdout",
     "output_type": "stream",
     "text": [
      "T\n",
      "h\n",
      "i\n",
      "s\n",
      "This is a String of type <class 'str'>\n",
      "This is also a String of type <class 'str'>\n",
      "This is still a String of type <class 'str'>\n",
      "\n",
      "1\n",
      "(2+1j)\n",
      "3.14\n",
      "Four\n",
      "[1, (2+1j), 3.14, 'Four'] is of type <class 'list'>\n",
      "\n",
      "One\n",
      "2.71\n",
      "(3+4j)\n",
      "4\n",
      "('One', 2.71, (3+4j), 4, 5, 6) is of type <class 'tuple'>\n"
     ]
    }
   ],
   "source": [
    "a=\"This is a String\" # String/str\n",
    "\n",
    "print(a[0]) # Access element at index 0\n",
    "print(a[1]) # Access element at index 1\n",
    "print(a[2]) # Access element at index 2\n",
    "print(a[3]) # Access element at index 3\n",
    "\n",
    "print(a, \"of type\", type(a))\n",
    "\n",
    "a='This is also a String' # String/str\n",
    "\n",
    "print(a, \"of type\", type(a))\n",
    "\n",
    "a='''This is still a String''' # String/str\n",
    "\n",
    "print(a, \"of type\", type(a))\n",
    "\n",
    "a=[1,2+1j,3.14,\"Four\"] # List/list\n",
    "\n",
    "print() # New line\n",
    "print(a[0]) # Access element at index 0\n",
    "print(a[1]) # Access element at index 1\n",
    "print(a[2]) # Access element at index 2\n",
    "print(a[3]) # Access element at index 3\n",
    "\n",
    "print(a, \"is of type\", type(a))\n",
    "\n",
    "a=(\"One\",2.71,3+4j,4,5,6) # Tuple/tuple\n",
    "\n",
    "print()\n",
    "print(a[0]) # Access element at index 0\n",
    "print(a[1]) # Access element at index 1\n",
    "print(a[2]) # Access element at index 2\n",
    "print(a[3]) # Access element at index 3\n",
    "\n",
    "print(a, \"is of type\", type(a))"
   ]
  },
  {
   "cell_type": "markdown",
   "metadata": {},
   "source": [
    "One critical difference between a `list` and a `tuple` is that tuples are immutable and can not be changed once they're made. Lists, however, can be updated. This let's us do a lot of useful operations, including tacking on new elements to the end of lists!"
   ]
  },
  {
   "cell_type": "code",
   "execution_count": 18,
   "metadata": {},
   "outputs": [
    {
     "name": "stdout",
     "output_type": "stream",
     "text": [
      "[1, 2, 3]\n",
      "[50, 2, 3]\n",
      "[50, 2, 3, 4]\n",
      "[49, 50, 2, 3, 4]\n"
     ]
    }
   ],
   "source": [
    "# Creating a simple list to play with\n",
    "ourList=[1,2,3]\n",
    "print(ourList)\n",
    "\n",
    "# Updating the first element, at index 0, in our list (1-->50)\n",
    "ourList[0]=50\n",
    "print(ourList)\n",
    "\n",
    "# Now we \"add\" a list containing a single element (4) to ourList\n",
    "# This appends the list on the right hand side to the list on the left hand side\n",
    "ourList=ourList+[4]\n",
    "print(ourList)\n",
    "\n",
    "# We can change where we add it based on where we put ourList relative to the `+` operator\n",
    "ourList=[49]+ourList\n",
    "print(ourList)"
   ]
  },
  {
   "cell_type": "markdown",
   "metadata": {},
   "source": [
    "**Practice Problem:** A cupcake costs 0.75, a doughnut costs 1.50, and an eclair costs 2. Orders come in as tuples of the form x = (c, d, e) where c is the number of cupcakes the customer wants, d is the number of doughnuts and e is the number of eclairs. Make a program that, assuming x is a tuple of the given form, calculates the cost for an order."
   ]
  },
  {
   "cell_type": "code",
   "execution_count": 33,
   "metadata": {},
   "outputs": [
    {
     "name": "stdout",
     "output_type": "stream",
     "text": [
      "53.25\n",
      "57.5\n",
      "52.75\n"
     ]
    }
   ],
   "source": [
    "# Print out the correct final cost given x\n",
    "a=(15,20,6) # Expected cost is 53.25\n",
    "b=(10,32,1) # Expected cost is 57.50\n",
    "c=(13,6,17) # Expected cost is 52.75\n",
    "\n",
    "\n",
    "def calculateCost(x):\n",
    "    cost=0\n",
    "\n",
    "    #Start your code bellow\n",
    "    \n",
    "    \n",
    "    \n",
    "    \n",
    "    return cost\n",
    "# Code should end by here, but just press enter above to give yourself more space\n",
    "\n",
    "print(calculateCost(a))\n",
    "print(calculateCost(b))\n",
    "print(calculateCost(c))"
   ]
  },
  {
   "cell_type": "markdown",
   "metadata": {},
   "source": [
    "The final data type we'll talk about today is known as a dictionary (`dict`) which operates off of `key:value` pairs. "
   ]
  },
  {
   "cell_type": "code",
   "execution_count": 36,
   "metadata": {
    "scrolled": true
   },
   "outputs": [
    {
     "name": "stdout",
     "output_type": "stream",
     "text": [
      "{0: 'Zero', 1: 'One', 3: 'Three', 'Four': 4} is of type <class 'dict'>\n",
      "Zero\n",
      "One\n",
      "Three\n",
      "4\n"
     ]
    }
   ],
   "source": [
    "a={0:\"Zero\",1:\"One\", 3:\"Three\", \"Four\":4} # Dictionary/dict\n",
    "\n",
    "print(a, \"is of type\", type(a))\n",
    "\n",
    "print(a[0]) # Access value with KEY 0\n",
    "\n",
    "print(a[1]) # Access value with KEY 1\n",
    "\n",
    "#print(a[2]) # Access value with KEY 2, but no such value exists!\n",
    "\n",
    "print(a[3]) # Access value with KEY 3\n",
    "\n",
    "#print(a[\"3\"]) # Access value with KEY \"3\", but no such value exists!\n",
    "\n",
    "print(a[\"Four\"]) # Access value with KEY \"Four\"\n",
    "\n",
    "#print(a[\"four\"]) # Access value with KEY \"four\", but no such value exists!"
   ]
  },
  {
   "cell_type": "markdown",
   "metadata": {},
   "source": [
    "**Problem:** The shop wants to be able to change prices more easily in its program. Adjust your previous program to add a dictionary p that assigns to each of \"cupcake\", \"doughnut\", and \"eclair\" a cost value, and update the calculator to make use of the dictionary. **Reminder**: A cupcake costs 0.75, a doughnut costs 1.50, and an eclair costs 2."
   ]
  },
  {
   "cell_type": "code",
   "execution_count": 34,
   "metadata": {},
   "outputs": [
    {
     "name": "stdout",
     "output_type": "stream",
     "text": [
      "0\n",
      "0\n",
      "0\n"
     ]
    }
   ],
   "source": [
    "p={} # Fill in with key:value pairs\n",
    "\n",
    "# Print out the correct final cost given x\n",
    "a=(15,20,6) # Expected cost is 53.25\n",
    "b=(10,32,1) # Expected cost is 57.50\n",
    "c=(13,6,17) # Expected cost is 52.75\n",
    "\n",
    "def costWithDict(x):\n",
    "    cost=0\n",
    "    #Start your code bellow\n",
    "    \n",
    "    \n",
    "    \n",
    "    \n",
    "    return cost\n",
    "# Code should end by here, but just press enter above to give yourself more space\n",
    "\n",
    "print(costWithDict(a))\n",
    "print(costWithDict(b))\n",
    "print(costWithDict(c))"
   ]
  },
  {
   "cell_type": "markdown",
   "metadata": {},
   "source": [
    "**Aside:** As hinted about earlier, data types have a property known as *mutability* or its opposite, *immutability*. We say a data type is *mutable* when it can be modified after being created. It's important to remember that data types are simply encoded bits occupying memory somewhere in our machine. To say its *mutable* is to say that we can change its value mid-process without changing what entity we refer to (made clearer in example), while it is *immutable* if it cannot be modified after being created. The following are *immutable* data types: number values (including booleans), strings, tuples and frozensets. In this workshop we won't really touch frozensets, but it's worth noting that they, true to their name, are frozen and *immutable*. "
   ]
  },
  {
   "cell_type": "code",
   "execution_count": 32,
   "metadata": {},
   "outputs": [
    {
     "name": "stdout",
     "output_type": "stream",
     "text": [
      "x: 140732641809504\n",
      "y: 140732641809504\n",
      "y+1: 140732641809536\n",
      "x: 140732641809504\n"
     ]
    }
   ],
   "source": [
    "#Example of immutability\n",
    "\n",
    "x=10 # Initializing x with 10\n",
    "\n",
    "print(\"x:\",id(x)) # Printing x's ID\n",
    "\n",
    "y=x # Setting y=x\n",
    "\n",
    "print(\"y:\",id(y)) # Printing y's ID. Since y=x, y points to x\n",
    "\n",
    "y=y+1 # Changing y's value\n",
    "\n",
    "print(\"y+1:\",id(y)) # Since y no longer points to the value of x, its ID changes\n",
    "\n",
    "print(\"x:\",id(x)) # x is unaffected (original ID for comparison)"
   ]
  },
  {
   "cell_type": "markdown",
   "metadata": {},
   "source": [
    "### Control Flow\n",
    "\n",
    "#### Logic\n",
    "\n",
    "Conditionals and logic form the building blocks for more complex, and generally more useful, programs. We've already mentioned booleans `True` and `False`, but how do we use them? To manipulate them, we introduce the *logical operators*: `not`, `and`, and `or`. If you've used other programming languages, it may be a bit weird to see the *logical operators* be written words, and not a mess of symbols like `!`, `&&`, `||`, but python was made to be as readable as possible, and hence opted for written words instead. "
   ]
  },
  {
   "cell_type": "code",
   "execution_count": 39,
   "metadata": {},
   "outputs": [
    {
     "name": "stdout",
     "output_type": "stream",
     "text": [
      "False\n",
      "True\n",
      "False\n",
      "True\n"
     ]
    }
   ],
   "source": [
    "a= True\n",
    "b= False\n",
    "\n",
    "print(a and b) # True and False is False\n",
    "\n",
    "print(a or b) # True or False is True\n",
    "\n",
    "print(not a) # Not True is False\n",
    "\n",
    "print(not b) # Not False is True"
   ]
  },
  {
   "cell_type": "markdown",
   "metadata": {},
   "source": [
    "You aren't restricted to working with pure booleans either. Python has what's known as *comparison operators* which can be used in all sorts of situations and evaluates into booleans. Let's see them coded up."
   ]
  },
  {
   "cell_type": "code",
   "execution_count": 58,
   "metadata": {},
   "outputs": [
    {
     "name": "stdout",
     "output_type": "stream",
     "text": [
      "True\n",
      "False\n",
      "True\n",
      "False\n",
      "True\n",
      "False\n"
     ]
    }
   ],
   "source": [
    "a=3\n",
    "b=7\n",
    "c=3\n",
    "\n",
    "print(a==c) # A simple equality. Note that it uses 2 \"=\" signs to differentiate it from assignment\n",
    "\n",
    "print(a > 3) # Strictly greater than inequality. Note 3 is not strictly greater than 3 \n",
    "\n",
    "print(a >= 3) # Greater than or equal to. 3 is not strictly greater than 3, but is equal to 3\n",
    "\n",
    "print(b < a) # Strictly less than inequality\n",
    "\n",
    "print(a <= 3) # Less than or equal to.\n",
    "\n",
    "print(a!=3) # Not equal to\n",
    " "
   ]
  },
  {
   "cell_type": "markdown",
   "metadata": {},
   "source": [
    "#### Conditionals\n",
    "\n",
    "To harness these logical instruments, we use conditional code blocks such as `if`, `else`, and `elif`. Let's jump in!"
   ]
  },
  {
   "cell_type": "code",
   "execution_count": 70,
   "metadata": {},
   "outputs": [
    {
     "name": "stdout",
     "output_type": "stream",
     "text": [
      "Apparently a=c. Who would've thought?\n",
      "Yeah hopefully this gets printed, or else we have an issue\n",
      "I mean nothing else worked, so this is our default!\n"
     ]
    }
   ],
   "source": [
    "a=3\n",
    "b=7\n",
    "c=3\n",
    "\n",
    "if a==c: \n",
    "    print(\"Apparently a=c. Who would've thought?\")\n",
    "\n",
    "if a>3:\n",
    "    print(\"Well this really shouldn't be printed\")\n",
    "elif a>2:\n",
    "    print(\"Yeah hopefully this gets printed, or else we have an issue\")\n",
    "    \n",
    "if b==c:\n",
    "    print(\"If this gets printed either you messed with the values or this is broken\")\n",
    "elif b<=c:\n",
    "    print(\"This also is wrong. Just wrong.\")\n",
    "else:\n",
    "    print(\"I mean nothing else worked, so this is our default!\")"
   ]
  },
  {
   "cell_type": "markdown",
   "metadata": {},
   "source": [
    "**Problem:** The shop has had a rash of invalid orders with negative quantities of items being purchased. Implement a system to print \"Something went wrong!\" and return -1 if any of the quantities purchased are negative."
   ]
  },
  {
   "cell_type": "code",
   "execution_count": 37,
   "metadata": {},
   "outputs": [
    {
     "name": "stdout",
     "output_type": "stream",
     "text": [
      "0\n",
      "0\n",
      "0\n",
      "0\n",
      "0\n",
      "0\n",
      "0\n",
      "0\n",
      "0\n",
      "0\n"
     ]
    }
   ],
   "source": [
    "# Print out the correct final cost given x\n",
    "Inputs=((15,20,6),\n",
    "        (10,32,1),\n",
    "        (13,6,17),\n",
    "        (-15,20,6),\n",
    "        (10,-32,1),\n",
    "        (13,6,-17),\n",
    "        (15,-20,-6),\n",
    "        (-10,-32,-1),\n",
    "        (-13,-6,17),\n",
    "        (-15,20,-6))\n",
    "        \n",
    "\n",
    "def costWithLogic(x):\n",
    "    cost=0\n",
    "    #Start your code bellow\n",
    "    \n",
    "    \n",
    "    \n",
    "    \n",
    "    return cost\n",
    "# Code should end by here, but just press enter above to give yourself more space\n",
    "for x in Inputs:\n",
    "    print(costWithLogic(x)) # Only the first 3 should return positive values matching the ones in the last problem"
   ]
  },
  {
   "cell_type": "markdown",
   "metadata": {},
   "source": [
    "**Problem:** If a customer purchases at least a dozen items, at most half of which are cupcakes, then they get 25% off their order. Implement a logical control mechanism to apply this discount."
   ]
  },
  {
   "cell_type": "code",
   "execution_count": 43,
   "metadata": {},
   "outputs": [
    {
     "name": "stdout",
     "output_type": "stream",
     "text": [
      "15.75\n",
      "15.0\n",
      "13.75\n"
     ]
    }
   ],
   "source": [
    "# Print out the correct final cost given x\n",
    "a=(1,2,6) # Expected cost is 15.75\n",
    "b=(6,5,4) # Expected cost is 15.00\n",
    "c=(7,3,2) # Expected cost is 13.75\n",
    "\n",
    "def costWithDiscount(x):\n",
    "    cost=0\n",
    "    #Start your code bellow\n",
    "    \n",
    "    \n",
    "    \n",
    "    \n",
    "    \n",
    "    \n",
    "    \n",
    "    return cost\n",
    "# Code should end by here, but just press enter above to give yourself more space\n",
    "\n",
    "print(costWithDiscount(a))\n",
    "print(costWithDiscount(b))\n",
    "print(costWithDiscount(c))"
   ]
  },
  {
   "cell_type": "markdown",
   "metadata": {},
   "source": [
    "Now our if/else/elif are great and all, but they aren't the best solution in every single situation. Suppose we wanted to output the name of the month N. We could well use a lot of if/elif statements..."
   ]
  },
  {
   "cell_type": "code",
   "execution_count": 2,
   "metadata": {},
   "outputs": [
    {
     "name": "stdout",
     "output_type": "stream",
     "text": [
      "Mar\n"
     ]
    }
   ],
   "source": [
    "MONTH=3\n",
    "\n",
    "if(MONTH==1):\n",
    "    print(\"Jan\")\n",
    "elif(MONTH==2):\n",
    "    print(\"Feb\")\n",
    "elif(MONTH==3):\n",
    "    print(\"Mar\")\n",
    "#\n",
    "#\n",
    "#\n",
    "#\n",
    "#\n",
    "#\n",
    "#\n",
    "elif(MONTH==12):\n",
    "    print(\"Dec\")\n",
    "else:\n",
    "    print(\"Some default text\")"
   ]
  },
  {
   "cell_type": "markdown",
   "metadata": {},
   "source": [
    "That's messy. There's a lot of overhead for a relatively simple task, but how could we do it better? Well, a dictionary! You may initially want to use a list or tuple, and that's a good instinct, but they're not as flexible as dictionaries. For one, in our case we have our months start at 1 and end at 12, but a list or tuple would index from 0 to 11. This is actually very simple to get around (we could just index by `MONTH-1`) but what if we had the opposite problem: given the name of the month, find its order in the year. Since we couldn't index by a String, lists and tuples wouldn't work. Dictionaries, however, have no such limitation! In general, if you are going to have many conditionals which simply evaluate the value of a variable against a fixed set of results, it may be worth switching to a dictionary."
   ]
  },
  {
   "cell_type": "code",
   "execution_count": 5,
   "metadata": {},
   "outputs": [
    {
     "name": "stdout",
     "output_type": "stream",
     "text": [
      "{1: 'January', 2: 'February', 3: 'March', 4: 'April', 5: 'May', 6: 'June', 7: 'July', 8: 'August', 9: 'September', 10: 'October', 11: 'November', 12: 'December'}\n",
      "\n",
      "March\n",
      "March\n",
      "nothing\n"
     ]
    }
   ],
   "source": [
    "switcher = {\n",
    "        1: \"January\",\n",
    "        2: \"February\",\n",
    "        3: \"March\",\n",
    "        4: \"April\",\n",
    "        5: \"May\",\n",
    "        6: \"June\",\n",
    "        7: \"July\",\n",
    "        8: \"August\",\n",
    "        9: \"September\",\n",
    "        10: \"October\",\n",
    "        11: \"November\",\n",
    "        12: \"December\"\n",
    "    }\n",
    "print(switcher)\n",
    "print()\n",
    "print(switcher[MONTH])\n",
    "\n",
    "# You can also use the `get` method of dictionaries\n",
    "# The first arg is whatever key you want to use\n",
    "# The second arg is the \"default\" you want returned if the key is not found\n",
    "print(switcher.get(MONTH, \"nothing\"))\n",
    "print(switcher.get(13, \"nothing\"))"
   ]
  },
  {
   "cell_type": "markdown",
   "metadata": {},
   "source": [
    "And we could just as easily invert it and switch the keys and values"
   ]
  },
  {
   "cell_type": "code",
   "execution_count": 81,
   "metadata": {},
   "outputs": [
    {
     "name": "stdout",
     "output_type": "stream",
     "text": [
      "{'January': 1, 'February': 2, 'March': 3, 'April': 4, 'May': 5, 'June': 6, 'July': 7, 'August': 8, 'September': 9, 'October': 10, 'November': 11, 'December': 12}\n",
      "\n",
      "8\n"
     ]
    }
   ],
   "source": [
    "inv_switcher = {v: k for k, v in switcher.items()} # Don't worry too much about the syntax here. We'll talk about this later if we have time\n",
    "\n",
    "print(inv_switcher)\n",
    "print()\n",
    "print(inv_switcher[\"August\"])\n"
   ]
  },
  {
   "cell_type": "markdown",
   "metadata": {},
   "source": [
    "#### Loops\n",
    "\n",
    "The final pieces of the control flow puzzle are loops. First, the *for* loop. A *for* loop iterates over a collection of items. Let's make some valid collections and see how the for loop behaves."
   ]
  },
  {
   "cell_type": "code",
   "execution_count": 86,
   "metadata": {},
   "outputs": [
    {
     "name": "stdout",
     "output_type": "stream",
     "text": [
      "1\n",
      "2\n",
      "3\n",
      "\n",
      "4\n",
      "5\n",
      "6\n",
      "\n",
      "S\n",
      "e\n",
      "v\n",
      "e\n",
      "n\n"
     ]
    }
   ],
   "source": [
    "a=(1,2,3)\n",
    "b=[4,5,6]\n",
    "c=\"Seven\"\n",
    "\n",
    "for x in a: # We make a variable x which will store one element in \"a\" at a time\n",
    "    print(x)\n",
    "\n",
    "print()\n",
    "\n",
    "for y in b: # The name of the variable doesn't actually matter\n",
    "    print(y)\n",
    "\n",
    "print()\n",
    "\n",
    "for x in c: # Strings are perfectly valid collections to iterate over!\n",
    "    print(x)"
   ]
  },
  {
   "cell_type": "markdown",
   "metadata": {},
   "source": [
    "But what if you don't actually care about the elements of the collection, and instead you just want to re-run code several times. Instead of going through the effort of making a collection with the exact size of iterations that you need to run, you can use a handy built in constructor `range(n)`."
   ]
  },
  {
   "cell_type": "code",
   "execution_count": 99,
   "metadata": {},
   "outputs": [
    {
     "name": "stdout",
     "output_type": "stream",
     "text": [
      "range(0, 3) is of type <class 'range'>\n",
      "0\n",
      "1\n",
      "2\n"
     ]
    }
   ],
   "source": [
    "a=range(3)\n",
    "print(a, \"is of type\", type(a))\n",
    "\n",
    "for x in a:\n",
    "    print(x)"
   ]
  },
  {
   "cell_type": "markdown",
   "metadata": {},
   "source": [
    "It indexes like we'd expect for the sake of using collections. We don't have to start at 0 though. Let's say we wanted to index from 3 to 10. All we have to do is add another argument."
   ]
  },
  {
   "cell_type": "code",
   "execution_count": 101,
   "metadata": {},
   "outputs": [
    {
     "name": "stdout",
     "output_type": "stream",
     "text": [
      "3\n",
      "4\n",
      "5\n",
      "6\n",
      "7\n",
      "8\n",
      "9\n"
     ]
    }
   ],
   "source": [
    "for x in range(3,10):\n",
    "    print(x)"
   ]
  },
  {
   "cell_type": "markdown",
   "metadata": {},
   "source": [
    "Notice how it increments one at a time, meaning we go from 3 to 4 to 5 and so on. What if we wanted only every other index? Or every third? Well, we can increase the *step size* very easily with the introduction of a third argument."
   ]
  },
  {
   "cell_type": "code",
   "execution_count": 4,
   "metadata": {},
   "outputs": [
    {
     "name": "stdout",
     "output_type": "stream",
     "text": [
      "Every 2\n",
      "3\n",
      "5\n",
      "7\n",
      "9\n",
      "\n",
      "Every 3\n",
      "3\n",
      "6\n",
      "9\n"
     ]
    }
   ],
   "source": [
    "print(\"Every 2\")\n",
    "\n",
    "for x in range(3,10,2):\n",
    "    print(x)\n",
    "\n",
    "print()\n",
    "print(\"Every 3\")\n",
    "\n",
    "for x in range(3,10,3):\n",
    "    print(x)\n"
   ]
  },
  {
   "cell_type": "markdown",
   "metadata": {},
   "source": [
    "Let's say that we wanted to compute the sum of the first 100 positive integers. Here's how we would accomplish that."
   ]
  },
  {
   "cell_type": "code",
   "execution_count": 44,
   "metadata": {},
   "outputs": [
    {
     "name": "stdout",
     "output_type": "stream",
     "text": [
      "5050\n"
     ]
    }
   ],
   "source": [
    "sum=0 # A variable to keep track of whatever the current running total is\n",
    "\n",
    "for x in range(101):\n",
    "    sum+=x\n",
    "print(sum)"
   ]
  },
  {
   "cell_type": "markdown",
   "metadata": {},
   "source": [
    "**Problem:** For the numbers 1 through 100, output \"Fizz\" on every third number and \"Buzz\" on every fifth, except every fifteenth, on which you should output \"FizzBuzz\".  Output the number itself otherwise."
   ]
  },
  {
   "cell_type": "code",
   "execution_count": 47,
   "metadata": {},
   "outputs": [],
   "source": [
    "# Your code here\n",
    "    \n",
    "    \n",
    "    \n",
    "    \n"
   ]
  },
  {
   "cell_type": "markdown",
   "metadata": {},
   "source": [
    "**Problem:** For the **even** numbers 1 through 100, output \"Fizz\" on every third number and \"Buzz\" on every fifth, except every fifteenth, on which you should output \"FizzBuzz\".  Output the number itself otherwise."
   ]
  },
  {
   "cell_type": "code",
   "execution_count": 48,
   "metadata": {},
   "outputs": [],
   "source": [
    "# Your code here\n",
    "\n",
    "\n",
    "\n",
    "    \n"
   ]
  },
  {
   "cell_type": "markdown",
   "metadata": {},
   "source": [
    "**List Comprehension and Iterables (Intermediate)**\n",
    "\n",
    "Alright, now let's loop back to something we saw a bit earlier. There was a (confusing) bit of syntax that we sort of skipped that looked like this `{v: k for k, v in switcher.items()}`. This is an example of \"dictionary comprehension\". There's also an analagous system for lists and tuples, called \"list comprehension\" and \"tuple comprehension\" (kinda. It's a bit complicated for tuples). We'll focus on *list comprehension* since that is, by far, the most common use case. Understanding *list comprehension* will also make it super easy to pick up the other comprehensions (they're really all the same under the hood).\n",
    "\n",
    "We want to make a list of positive integers from 1 to 50. That's certainly possible given what we know. We can do something like: `ourList=[1,2,3,...]`. That would take way too long to write and honestly the bigger problem is that someone reading that code would have to read out the entire list to make sure they understood its contents. This is a huge detriment to the readability of code since *somewhere* within our list, there could be a random break from the pattern. It could look like: `ourList=[1,2,3,...,25,-1,-13,519,29,30,...]` and unless we read the entire list we wouldn't know. \n",
    "\n",
    "So where does list comprehension come into play? It fixes both these problems! It lets you create the same list with way fewer keystrokes *and* it makes it super readable. Let's look at the code below."
   ]
  },
  {
   "cell_type": "code",
   "execution_count": 9,
   "metadata": {},
   "outputs": [
    {
     "name": "stdout",
     "output_type": "stream",
     "text": [
      "[1, 2, 3, 4, 5]\n",
      "[1, 2, 3, 4, 5, 6, 7, 8, 9, 10]\n"
     ]
    }
   ],
   "source": [
    "# This is how we would use list comprehension to create a list of values from 1 to 5\n",
    "ourList=[i+1 for i in range(5)]\n",
    "print(ourList)\n",
    "\n",
    "# This is how we would use list comprehension to create a list of values from 1 to 10\n",
    "ourList=[i+1 for i in range(10)]\n",
    "print(ourList)\n",
    "\n",
    "# This is how we would use list comprehension to create a list of values from 1 to 50\n",
    "ourList=[i+1 for i in range(50)]\n",
    "# We won't print it out since it would be a bit too long"
   ]
  },
  {
   "cell_type": "markdown",
   "metadata": {},
   "source": [
    "As you can see, list comprehension provides us a much shorter way to accomplish our goal. Now we can talk about the readability of it. At first it may seem a bit odd, but there should be some familiar syntax in there! In particular `for ... in ...` is the syntax we used for `for` loops. You can think about this in the exact same way. The terms `for i in range(50)` define a for loop which results in values for `i` ranging between `0...49`. The expression *before* the for loop: `i+1` is what we would usually consider the *body* or content of the for loop. Let's look at the analogous for loop below."
   ]
  },
  {
   "cell_type": "code",
   "execution_count": 10,
   "metadata": {},
   "outputs": [],
   "source": [
    "for i in range(50):\n",
    "    i+1"
   ]
  },
  {
   "cell_type": "markdown",
   "metadata": {},
   "source": [
    "Now the above code doesn't actually return anything since we don't have any kind of return statement or print statement. Let's add a print statement to really drive home that it's behaving as we expect."
   ]
  },
  {
   "cell_type": "code",
   "execution_count": 11,
   "metadata": {},
   "outputs": [
    {
     "name": "stdout",
     "output_type": "stream",
     "text": [
      "1\n",
      "2\n",
      "3\n",
      "4\n",
      "5\n"
     ]
    }
   ],
   "source": [
    "# Reduced range to 5 instead of 50 to shorten it a bit\n",
    "for i in range(5):\n",
    "    print(i+1)"
   ]
  },
  {
   "cell_type": "markdown",
   "metadata": {},
   "source": [
    "So the expression `i+1` takes on values ranging from `1...5` in the code above, or `1...50` in our previous example. Putting this together, we can understand the code `i+1 for i in range(50)` as producing a *sequence* of numbers \\[in particular, it produces a `generator` when wrapped in paranthesis like `(i+1 for i in range(50))`\\]. List comprehension allows us to form a list based on this sequence of numbers. We do this by wrapping that code in square brackets like so: `[i+1 for i in range(50)]`. Now, this isn't the only way to do this. We could've also used a regular for loop and the ability to append lists to populate the list like below."
   ]
  },
  {
   "cell_type": "code",
   "execution_count": 19,
   "metadata": {},
   "outputs": [
    {
     "name": "stdout",
     "output_type": "stream",
     "text": [
      "[1, 2, 3, 4, 5]\n"
     ]
    }
   ],
   "source": [
    "# We start with an empty list\n",
    "emptyList=[]\n",
    "for i in range(5):\n",
    "    emptyList+=[i+1]\n",
    "\n",
    "print(emptyList)"
   ]
  },
  {
   "cell_type": "markdown",
   "metadata": {},
   "source": [
    "In fact, this is probably how you would do this in many programming languages. Python is structure a bit differently, and (to our benefit) allows for things like list comprehension. In generl, list comprehension is favored since it is very compact and usually quite readable, and is (in almost every case) *faster* than using a for loop like above to create/populate a list.\n",
    "\n",
    "Now, we originally promised to explain the bit of code used to make that inverted switcher (`{v: k for k, v in switcher.items()}`). Time to deliver."
   ]
  },
  {
   "cell_type": "code",
   "execution_count": 24,
   "metadata": {},
   "outputs": [
    {
     "name": "stdout",
     "output_type": "stream",
     "text": [
      "dict_items([(1, 'January'), (2, 'February'), (3, 'March'), (4, 'April'), (5, 'May'), (6, 'June'), (7, 'July'), (8, 'August'), (9, 'September'), (10, 'October'), (11, 'November'), (12, 'December')])\n"
     ]
    }
   ],
   "source": [
    "# Let's look at what switcher.items() returns\n",
    "print(switcher.items())"
   ]
  },
  {
   "cell_type": "markdown",
   "metadata": {},
   "source": [
    "Now `switcher.items()` returns an object of type `dict_items`. We won't dive deep into how exactly it works, but for our sake we just need to know that when you run a for loop on it, you get out tuples not individual elements or numbers. We'll refer to it as an `iterable` but we won't discuss those in this workshop. Check out python docs if you'd like to learn more."
   ]
  },
  {
   "cell_type": "code",
   "execution_count": 26,
   "metadata": {},
   "outputs": [
    {
     "name": "stdout",
     "output_type": "stream",
     "text": [
      "(1, 'January')\n",
      "(2, 'February')\n",
      "(3, 'March')\n",
      "(4, 'April')\n",
      "(5, 'May')\n",
      "(6, 'June')\n",
      "(7, 'July')\n",
      "(8, 'August')\n",
      "(9, 'September')\n",
      "(10, 'October')\n",
      "(11, 'November')\n",
      "(12, 'December')\n"
     ]
    }
   ],
   "source": [
    "for i in switcher.items():\n",
    "    print(i)"
   ]
  },
  {
   "cell_type": "markdown",
   "metadata": {},
   "source": [
    "Whenever we have an iterable (e.g. `range(10)` or `switcher.items()` or a `list`) that returns a tuple, we can store the values contained in that tuple into different variables (which we can name whatever we want, such as `i` and `j` or `k` and `v`)."
   ]
  },
  {
   "cell_type": "code",
   "execution_count": 37,
   "metadata": {},
   "outputs": [
    {
     "name": "stdout",
     "output_type": "stream",
     "text": [
      "1:January\n",
      "2:February\n",
      "3:March\n",
      "4:April\n",
      "5:May\n",
      "6:June\n",
      "7:July\n",
      "8:August\n",
      "9:September\n",
      "10:October\n",
      "11:November\n",
      "12:December\n"
     ]
    }
   ],
   "source": [
    "for k,v in switcher.items():\n",
    "    print(f\"{k}:{v}\")"
   ]
  },
  {
   "cell_type": "markdown",
   "metadata": {},
   "source": [
    "Finally, we have the syntax `u:v` which defines a `key:value` pair. Just as the first term in list comprehension defined its elements, so too does this since the elements of a dictionary are always `key:value` pairs. But where did the *inversion* come in? Well, let's look at what happens if we switch the roles of `u` and `v` in the code we had above."
   ]
  },
  {
   "cell_type": "code",
   "execution_count": 38,
   "metadata": {},
   "outputs": [
    {
     "name": "stdout",
     "output_type": "stream",
     "text": [
      "January:1\n",
      "February:2\n",
      "March:3\n",
      "April:4\n",
      "May:5\n",
      "June:6\n",
      "July:7\n",
      "August:8\n",
      "September:9\n",
      "October:10\n",
      "November:11\n",
      "December:12\n"
     ]
    }
   ],
   "source": [
    "for k,v in switcher.items():\n",
    "    print(f\"{v}:{k}\")"
   ]
  },
  {
   "cell_type": "markdown",
   "metadata": {},
   "source": [
    "All of a sudden, our `keys` have become our `values` and vice versa. So taking it all at once, we have that `{v: k for k, v in switcher.items()}` first creates an iterator containing the original `key:value` pairs (`switcher.items()`). We then iterate over it and store they keys as `k` and the values as `v`. Finally, we create a new `dict` where the keys are `v` and the values are `k`, completing the inversion."
   ]
  }
 ],
 "metadata": {
  "kernelspec": {
   "display_name": "Python 3",
   "language": "python",
   "name": "python3"
  },
  "language_info": {
   "codemirror_mode": {
    "name": "ipython",
    "version": 3
   },
   "file_extension": ".py",
   "mimetype": "text/x-python",
   "name": "python",
   "nbconvert_exporter": "python",
   "pygments_lexer": "ipython3",
   "version": "3.8.8"
  }
 },
 "nbformat": 4,
 "nbformat_minor": 2
}
