{
 "cells": [
  {
   "cell_type": "markdown",
   "metadata": {},
   "source": [
    "# A Quick and Dirty Intro to Python\n",
    "\n",
    "In this notebook you'll work with a wide variety of the most commonly employed tools in python. We'll begin with a brief overview of the history of python, how to set up your python environment and then declare your first variables! We'll talk about the different data types, and some of the more advanced data structures as well as foundational syntax such as for loops, conditionals and keywords. Then, we'll go into Numpy and play around with the new data structure it offers. We'll explore the uses of numpy and why exactly it shows up in every data science project out there. Finally, we'll go over pandas and how to use it to represent your data in a convenient way. A rough and guiding list of topics can be seen bellow: \n",
    "* Python Basics\n",
    "    * Historical background\n",
    "    * Variable Declarations\n",
    "    * Indentation\n",
    "    * Conditionals\n",
    "    * Loops\n",
    "    * Keywords\n",
    "    * Data types\n",
    "* Numpy Basics (https://s3.amazonaws.com/assets.datacamp.com/blog_assets/Numpy_Python_Cheat_Sheet.pdf)\n",
    "    * Multidimensional Arrays\n",
    "    * Extended Operators\n",
    "    * Array Manipulation\n",
    "    * Saving/Loading Arrays\n",
    "    * Memory Mapping\n",
    "    * Data Types\n",
    "* Pandas Basics\n",
    "    * Dataframes\n",
    "    * Pre-processing\n",
    "    * Feauture Engineering\n",
    "    * Using Numpy Arrays\n",
    "    * CSV Conversion\n",
    "    \n"
   ]
  },
  {
   "cell_type": "markdown",
   "metadata": {},
   "source": [
    "## Python Basics\n",
    "\n",
    "### Data Types\n",
    "\n",
    "#### Numbers\n",
    "\n",
    "Let's start off with defining data types. These are what ultimately drive a programming language, and tend to vary between languages. One broad category of data types is that of numbers. In Python, we have 3 types of numbers: integer (`int`), floating-point (`float`), and complex (`complex`)."
   ]
  },
  {
   "cell_type": "code",
   "execution_count": 9,
   "metadata": {},
   "outputs": [
    {
     "name": "stdout",
     "output_type": "stream",
     "text": [
      "3 is of type <class 'int'>\n",
      "3.1 is of type <class 'float'>\n",
      "(3.1+4j) is of type <class 'complex'>\n"
     ]
    }
   ],
   "source": [
    "a= 3 # Integer/int\n",
    "\n",
    "print(a, \"is of type\", type(a))\n",
    "\n",
    "a= 3.1 # Floating-point/float\n",
    "\n",
    "print(a, \"is of type\", type(a))\n",
    "\n",
    "a= 3.1+4j # Complex/complex\n",
    "\n",
    "print(a, \"is of type\", type(a))"
   ]
  },
  {
   "cell_type": "markdown",
   "metadata": {},
   "source": [
    "**Remark:** Notice how we never declared the *type* of the variable `a`, and that python had no issue putting a float in `a` even though it was previously an integer. This is because Python is a **dynamically typed** language.\n",
    "\n",
    "**Remark:** Notice that we don't include semi-colons \";\" at the end of our lines. In python, you can use semicolons if you'd like, but semicolons are *not* required and in fact, most people omit them entirely."
   ]
  },
  {
   "cell_type": "markdown",
   "metadata": {},
   "source": [
    "For this workshop, we won't work much with complex numbers since their use case for most people taking this workshop will be exceptionally limited. We'll now focus on just floats and integers. Let's see some basic operations on these numbers."
   ]
  },
  {
   "cell_type": "code",
   "execution_count": 50,
   "metadata": {},
   "outputs": [
    {
     "name": "stdout",
     "output_type": "stream",
     "text": [
      "5.5\n",
      "3.0\n",
      "0.5833333333333334\n",
      "0.0\n",
      "3.0\n",
      "3\n"
     ]
    }
   ],
   "source": [
    "a=2\n",
    "b=3.5\n",
    "c=6\n",
    "\n",
    "print(a+b) # Basic addition. If one argument is a float, even if the other is an integer, the result gets \"promoted\" to a float\n",
    "\n",
    "print(c/a) # Float division. Even when a evenly divides c and both are integers, \n",
    "           # c/a is still a float for the sake of maintaining precision\n",
    "\n",
    "print(b/c) # The output is a float with finite precision (no infinite repeating decimals) \n",
    "\n",
    "print(b//c) # Integer division. This acts as regular float division but rounds down\n",
    "\n",
    "print(c/a) # If both arguments for division are integers, then the float division still outputs a float\n",
    "\n",
    "print(c//a) # But the integer division results in an integer!"
   ]
  },
  {
   "cell_type": "markdown",
   "metadata": {},
   "source": [
    "Aside from numbers, we also have a data type known as a boolean:"
   ]
  },
  {
   "cell_type": "code",
   "execution_count": 8,
   "metadata": {},
   "outputs": [
    {
     "name": "stdout",
     "output_type": "stream",
     "text": [
      "True\n",
      "False\n"
     ]
    }
   ],
   "source": [
    "a=True # Boolean True\n",
    "\n",
    "print(a, \"is of type\", type(a))\n",
    "\n",
    "a=False # Boolean False\n",
    "\n",
    "print(a, \"is of type\", type(a))"
   ]
  },
  {
   "cell_type": "markdown",
   "metadata": {},
   "source": [
    "#### Sequences\n",
    "\n",
    "Next we have what're known as \"Sequence\" data types. These are incredibly robust and will appear quite frequently, so take note! We have 3 types: String (`str`), `list`, and `tuple`. They all are collections of elements, with Strings being restricted to being a collection of individual characters while lists and tuples can be composed of any elements. In order to access an element in the collection, you must refer to its \"index\" which is just the element's location within the collection. The first element is at index 0, the second at index 1, etc... "
   ]
  },
  {
   "cell_type": "code",
   "execution_count": 55,
   "metadata": {},
   "outputs": [
    {
     "name": "stdout",
     "output_type": "stream",
     "text": [
      "T\n",
      "h\n",
      "i\n",
      "s\n",
      "This is a String of type <class 'str'>\n",
      "This is also a String of type <class 'str'>\n",
      "This is still a String of type <class 'str'>\n",
      "\n",
      "1\n",
      "(2+1j)\n",
      "3.14\n",
      "Four\n",
      "[1, (2+1j), 3.14, 'Four'] is of type <class 'list'>\n",
      "\n",
      "One\n",
      "2.71\n",
      "(3+4j)\n",
      "4\n",
      "('One', 2.71, (3+4j), 4, 5, 6) is of type <class 'tuple'>\n"
     ]
    }
   ],
   "source": [
    "a=\"This is a String\" # String/str\n",
    "\n",
    "print(a[0]) # Access element at index 0\n",
    "print(a[1]) # Access element at index 1\n",
    "print(a[2]) # Access element at index 2\n",
    "print(a[3]) # Access element at index 3\n",
    "\n",
    "print(a, \"of type\", type(a))\n",
    "\n",
    "a='This is also a String' # String/str\n",
    "\n",
    "print(a, \"of type\", type(a))\n",
    "\n",
    "a='''This is still a String''' # String/str\n",
    "\n",
    "print(a, \"of type\", type(a))\n",
    "\n",
    "a=[1,2+1j,3.14,\"Four\"] # List/list\n",
    "\n",
    "print() # New line\n",
    "print(a[0]) # Access element at index 0\n",
    "print(a[1]) # Access element at index 1\n",
    "print(a[2]) # Access element at index 2\n",
    "print(a[3]) # Access element at index 3\n",
    "\n",
    "print(a, \"is of type\", type(a))\n",
    "\n",
    "a=(\"One\",2.71,3+4j,4,5,6) # Tuple/tuple\n",
    "\n",
    "print()\n",
    "print(a[0]) # Access element at index 0\n",
    "print(a[1]) # Access element at index 1\n",
    "print(a[2]) # Access element at index 2\n",
    "print(a[3]) # Access element at index 3\n",
    "\n",
    "print(a, \"is of type\", type(a))"
   ]
  },
  {
   "cell_type": "markdown",
   "metadata": {},
   "source": [
    "There's one final data type known as a dictionary (`dict`) which operates off of `key:value` pairs. "
   ]
  },
  {
   "cell_type": "code",
   "execution_count": 36,
   "metadata": {
    "scrolled": true
   },
   "outputs": [
    {
     "name": "stdout",
     "output_type": "stream",
     "text": [
      "{0: 'Zero', 1: 'One', 3: 'Three', 'Four': 4} is of type <class 'dict'>\n",
      "Zero\n",
      "One\n",
      "Three\n",
      "4\n"
     ]
    }
   ],
   "source": [
    "a={0:\"Zero\",1:\"One\", 3:\"Three\", \"Four\":4} # Dictionary/dict\n",
    "\n",
    "print(a, \"is of type\", type(a))\n",
    "\n",
    "print(a[0]) # Access value with KEY 0\n",
    "\n",
    "print(a[1]) # Access value with KEY 1\n",
    "\n",
    "#print(a[2]) # Access value with KEY 2, but no such value exists!\n",
    "\n",
    "print(a[3]) # Access value with KEY 3\n",
    "\n",
    "#print(a[\"3\"]) # Access value with KEY \"3\", but no such value exists!\n",
    "\n",
    "print(a[\"Four\"]) # Access value with KEY \"Four\"\n",
    "\n",
    "#print(a[\"four\"]) # Access value with KEY \"four\", but no such value exists!"
   ]
  },
  {
   "cell_type": "markdown",
   "metadata": {},
   "source": [
    "**Aside:** data types have a property known as *mutability* or its opposite, *immutability*. We say a data type is *mutable* when it can be modified after being created. It's important to remember that data types are simply encoded bits occupying memory somewhere in our machine. To say its *mutable* is to say that we can change its value mid-process without changing what entity we refer to (made clearer in example), while it is *immutable* if it cannot be modified after being created. The following are *immutable* data types: number values (including booleans), strings, tuples and frozensets. In this workshop we won't really touch frozensets, but it's worth noting that they, true to their name, are frozen and *immutable*. "
   ]
  },
  {
   "cell_type": "code",
   "execution_count": 32,
   "metadata": {},
   "outputs": [
    {
     "name": "stdout",
     "output_type": "stream",
     "text": [
      "x: 140732641809504\n",
      "y: 140732641809504\n",
      "y+1: 140732641809536\n",
      "x: 140732641809504\n"
     ]
    }
   ],
   "source": [
    "#Example of immutability\n",
    "\n",
    "x=10 # Initializing x with 10\n",
    "\n",
    "print(\"x:\",id(x)) # Printing x's ID\n",
    "\n",
    "y=x # Setting y=x\n",
    "\n",
    "print(\"y:\",id(y)) # Printing y's ID. Since y=x, y points to x\n",
    "\n",
    "y=y+1 # Changing y's value\n",
    "\n",
    "print(\"y+1:\",id(y)) # Since y no longer points to the value of x, its ID changes\n",
    "\n",
    "print(\"x:\",id(x)) # x is unaffected (original ID for comparison)"
   ]
  },
  {
   "cell_type": "markdown",
   "metadata": {},
   "source": [
    "### Control Flow\n",
    "\n",
    "#### Logic\n",
    "\n",
    "Conditionals and logic form the building blocks for more complex, and generally more useful, programs. We've already mentioned booleans `True` and `False`, but how do we use them? To manipulate them, we introduce the *logical operators*: `not`, `and`, and `or`. If you've used other programming languages, it may be a bit weird to see the *logical operators* be written words, and not a mess of symbols like `!`, `&&`, `||`, but python was made to be as readable as possible, and hence opted for written words instead. "
   ]
  },
  {
   "cell_type": "code",
   "execution_count": 39,
   "metadata": {},
   "outputs": [
    {
     "name": "stdout",
     "output_type": "stream",
     "text": [
      "False\n",
      "True\n",
      "False\n",
      "True\n"
     ]
    }
   ],
   "source": [
    "a= True\n",
    "b= False\n",
    "\n",
    "print(a and b) # True and False is False\n",
    "\n",
    "print(a or b) # True or False is True\n",
    "\n",
    "print(not a) # Not True is False\n",
    "\n",
    "print(not b) # Not False is True"
   ]
  },
  {
   "cell_type": "markdown",
   "metadata": {},
   "source": [
    "You aren't restricted to working with pure booleans either. Python has what's known as *comparison operators* which can be used in all sorts of situations and evaluates into booleans. Let's see them coded up."
   ]
  },
  {
   "cell_type": "code",
   "execution_count": 58,
   "metadata": {},
   "outputs": [
    {
     "name": "stdout",
     "output_type": "stream",
     "text": [
      "True\n",
      "False\n",
      "True\n",
      "False\n",
      "True\n",
      "False\n"
     ]
    }
   ],
   "source": [
    "a=3\n",
    "b=7\n",
    "c=3\n",
    "\n",
    "print(a==c) # A simple equality. Note that it uses 2 \"=\" signs to differentiate it from assignment\n",
    "\n",
    "print(a > 3) # Strictly greater than inequality. Note 3 is not strictly greater than 3 \n",
    "\n",
    "print(a >= 3) # Greater than or equal to. 3 is not strictly greater than 3, but is equal to 3\n",
    "\n",
    "print(b < a) # Strictly less than inequality\n",
    "\n",
    "print(a <= 3) # Less than or equal to.\n",
    "\n",
    "print(a!=3) # Not equal to\n",
    " "
   ]
  },
  {
   "cell_type": "markdown",
   "metadata": {},
   "source": [
    "#### Conditionals\n",
    "\n",
    "To harness these logical instruments, we use conditional code blocks such as `if`, `else`, and `elif`. Let's jump in!"
   ]
  },
  {
   "cell_type": "code",
   "execution_count": 70,
   "metadata": {},
   "outputs": [
    {
     "name": "stdout",
     "output_type": "stream",
     "text": [
      "Apparently a=c. Who would've thought?\n",
      "Yeah hopefully this gets printed, or else we have an issue\n",
      "I mean nothing else worked, so this is our default!\n"
     ]
    }
   ],
   "source": [
    "a=3\n",
    "b=7\n",
    "c=3\n",
    "\n",
    "if a==c: \n",
    "    print(\"Apparently a=c. Who would've thought?\")\n",
    "\n",
    "if a>3:\n",
    "    print(\"Well this really shouldn't be printed\")\n",
    "elif a>2:\n",
    "    print(\"Yeah hopefully this gets printed, or else we have an issue\")\n",
    "    \n",
    "if b==c:\n",
    "    print(\"If this gets printed either you messed with the values or this is broken\")\n",
    "elif b<=c:\n",
    "    print(\"This also is wrong. Just wrong.\")\n",
    "else:\n",
    "    print(\"I mean nothing else worked, so this is our default!\")"
   ]
  },
  {
   "cell_type": "markdown",
   "metadata": {},
   "source": [
    "Now our if/else/elif are great and all, but they aren't the best solution in every single situation. Suppose we wanted to output the name of the month N. We could well use a lot of if/elif statements..."
   ]
  },
  {
   "cell_type": "code",
   "execution_count": 76,
   "metadata": {},
   "outputs": [
    {
     "name": "stdout",
     "output_type": "stream",
     "text": [
      "Mar\n"
     ]
    }
   ],
   "source": [
    "MONTH=3\n",
    "\n",
    "if(MONTH==1):\n",
    "    print(\"Jan\")\n",
    "elif(MONTH==2):\n",
    "    print(\"Feb\")\n",
    "elif(MONTH==3):\n",
    "    print(\"Mar\")\n",
    "#\n",
    "#\n",
    "#\n",
    "#\n",
    "#\n",
    "#\n",
    "#\n",
    "elif(MONTH==12):\n",
    "    print(\"Dec\")\n",
    "else:\n",
    "    print(\"Some default text\")"
   ]
  },
  {
   "cell_type": "markdown",
   "metadata": {},
   "source": [
    "That's messy. There's a lot of overhead for a relatively simple task, but how could we do it better? Well, a dictionary! You may initially want to use a list or tuple, and that's a good instinct, but they're not as flexible as dictionaries. For one, in our case we have our months start at 1 and end at 12, but a list or tuple would index from 0 to 11. This is actually very simple to get around (we could just index by `MONTH-1`) but what if we had the opposite problem: given the name of the month, find its order in the year. Since we couldn't index by a String, lists and tuples wouldn't work. Dictionaries, however, have no such limitation! In general, if you are going to have many conditionals which simply evaluate the value of a variable against a fixed set of results, it may be worth switching to a dictionary."
   ]
  },
  {
   "cell_type": "code",
   "execution_count": 77,
   "metadata": {},
   "outputs": [
    {
     "data": {
      "text/plain": [
       "'March'"
      ]
     },
     "execution_count": 77,
     "metadata": {},
     "output_type": "execute_result"
    }
   ],
   "source": [
    "switcher = {\n",
    "        1: \"January\",\n",
    "        2: \"February\",\n",
    "        3: \"March\",\n",
    "        4: \"April\",\n",
    "        5: \"May\",\n",
    "        6: \"June\",\n",
    "        7: \"July\",\n",
    "        8: \"August\",\n",
    "        9: \"September\",\n",
    "        10: \"October\",\n",
    "        11: \"November\",\n",
    "        12: \"December\"\n",
    "    }\n",
    "\n",
    "switcher[MONTH]"
   ]
  },
  {
   "cell_type": "code",
   "execution_count": null,
   "metadata": {},
   "outputs": [],
   "source": []
  }
 ],
 "metadata": {
  "kernelspec": {
   "display_name": "Python 3",
   "language": "python",
   "name": "python3"
  },
  "language_info": {
   "codemirror_mode": {
    "name": "ipython",
    "version": 3
   },
   "file_extension": ".py",
   "mimetype": "text/x-python",
   "name": "python",
   "nbconvert_exporter": "python",
   "pygments_lexer": "ipython3",
   "version": "3.7.3"
  }
 },
 "nbformat": 4,
 "nbformat_minor": 2
}
