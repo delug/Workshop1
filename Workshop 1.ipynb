{
 "cells": [
  {
   "cell_type": "markdown",
   "metadata": {},
   "source": [
    "# A Quick and Dirty Intro to Python\n",
    "\n",
    "In this notebook you'll work with a wide variety of the most commonly employed tools in python. We'll begin with a brief overview of the history of python, how to set up your python environment and then declare your first variables! We'll talk about the different data types, and some of the more advanced data structures as well as foundational syntax such as for loops, conditionals and keywords. Then, we'll go into Numpy and play around with the new data structure it offers. We'll explore the uses of numpy and why exactly it shows up in every data science project out there. Finally, we'll go over pandas and how to use it to represent your data in a convenient way. A rough and guiding list of topics can be seen bellow: \n",
    "* Python Basics\n",
    "    * Variable Declarations\n",
    "    * Indentation\n",
    "    * Conditionals\n",
    "    * Loops\n",
    "    * Data types\n",
    "* Numpy Basics (https://s3.amazonaws.com/assets.datacamp.com/blog_assets/Numpy_Python_Cheat_Sheet.pdf)\n",
    "    * Multidimensional Arrays\n",
    "    * Extended Operators\n",
    "    * Array Manipulation\n",
    "    * Saving/Loading Arrays\n",
    "    * Memory Mapping\n",
    "    * Data Types\n",
    "* Pandas Basics\n",
    "    * Dataframes\n",
    "    * Pre-processing\n",
    "    * Feauture Engineering\n",
    "    * Using Numpy Arrays\n",
    "    * CSV Conversion\n",
    "    \n"
   ]
  },
  {
   "cell_type": "markdown",
   "metadata": {},
   "source": [
    "## Python Basics\n",
    "\n",
    "### Data Types\n",
    "\n",
    "#### Numbers\n",
    "\n",
    "Let's start off with defining data types. These are what ultimately drive a programming language, and tend to vary between languages. One broad category of data types is that of numbers. In Python, we have 3 types of numbers: integer (`int`), floating-point (`float`), and complex (`complex`)."
   ]
  },
  {
   "cell_type": "code",
   "execution_count": 1,
   "metadata": {},
   "outputs": [
    {
     "name": "stdout",
     "output_type": "stream",
     "text": [
      "3 is of type <class 'int'>\n",
      "3.1 is of type <class 'float'>\n",
      "(3.1+4j) is of type <class 'complex'>\n"
     ]
    }
   ],
   "source": [
    "a= 3 # Integer/int\n",
    "\n",
    "print(a, \"is of type\", type(a))\n",
    "\n",
    "a= 3.1 # Floating-point/float\n",
    "\n",
    "print(a, \"is of type\", type(a))\n",
    "\n",
    "a= 3.1+4j # Complex/complex\n",
    "\n",
    "print(a, \"is of type\", type(a))"
   ]
  },
  {
   "cell_type": "markdown",
   "metadata": {},
   "source": [
    "**Remark:** Notice how we never declared the *type* of the variable `a`, and that python had no issue putting a float in `a` even though it was previously an integer. This is because Python is a **dynamically typed** language."
   ]
  },
  {
   "cell_type": "markdown",
   "metadata": {},
   "source": [
    "For this workshop, we won't work much with complex numbers since their use case for most people taking this workshop will be exceptionally limited. We'll now focus on just floats and integers. Let's see some basic operations on these numbers."
   ]
  },
  {
   "cell_type": "code",
   "execution_count": 17,
   "metadata": {},
   "outputs": [
    {
     "name": "stdout",
     "output_type": "stream",
     "text": [
      "a: 2\n",
      "b: 3.5\n",
      "c: 6\n",
      "\n",
      "a+b: 5.5\n",
      "a*b: 7.0\n",
      "a*c: 12\n",
      "c/a: 3.0\n",
      "b/c: 0.5833333333333334\n",
      "b//c: 0.0\n",
      "c/a: 3.0\n",
      "c//a: 3\n"
     ]
    }
   ],
   "source": [
    "a=2\n",
    "b=3.5\n",
    "c=6\n",
    "print(\"a:\",a)\n",
    "print(\"b:\",b)\n",
    "print(\"c:\",c)\n",
    "\n",
    "print()\n",
    "\n",
    "print(\"a+b:\",a+b) # Addition. If one argument is a float, even if the other is an integer, the result gets \"promoted\" to a float\n",
    "\n",
    "print(\"a*b:\",a*b) # Multiplication. If one argument is a float, even if the other is an integer, the result gets \"promoted\" to a float\n",
    "\n",
    "print(\"a*c:\",a*c) # Multiplication.\n",
    "\n",
    "print(\"c/a:\",c/a) # Float division. Even when a evenly divides c and both are integers, \n",
    "                  # c/a is still a float for the sake of maintaining precision\n",
    "\n",
    "print(\"b/c:\",b/c) # The output is a float with finite precision (no infinite repeating decimals) \n",
    "\n",
    "print(\"b//c:\",b//c) # Integer division. This acts as regular float division but rounds down\n",
    "\n",
    "print(\"c/a:\",c/a) # If both arguments for division are integers, then the float division still outputs a float\n",
    "\n",
    "print(\"c//a:\",c//a) # But the integer division results in an integer!"
   ]
  },
  {
   "cell_type": "markdown",
   "metadata": {},
   "source": [
    "Now for floats and ints we have some convenient *assignment operators* we can use which are just shorthand for equivelant expressions, but make our lives much easier."
   ]
  },
  {
   "cell_type": "code",
   "execution_count": 8,
   "metadata": {},
   "outputs": [
    {
     "name": "stdout",
     "output_type": "stream",
     "text": [
      "4\n",
      "5\n",
      "10\n",
      "5.0\n",
      "2.0\n"
     ]
    }
   ],
   "source": [
    "a=4\n",
    "print(a)\n",
    "a+=1 # Equivelant to a= a+1\n",
    "print(a)\n",
    "a*=2 # Equivelant to a= a*2\n",
    "print(a)\n",
    "a/=2 # Equivelant to a= a/2\n",
    "print(a)\n",
    "a//=2 # Equivelant to a= a//2\n",
    "print(a)"
   ]
  },
  {
   "attachments": {},
   "cell_type": "markdown",
   "metadata": {},
   "source": [
    "**Remark:** Notice that "
   ]
  },
  {
   "cell_type": "markdown",
   "metadata": {},
   "source": [
    "Aside from numbers, we also have a data type known as a boolean:"
   ]
  },
  {
   "cell_type": "code",
   "execution_count": 9,
   "metadata": {},
   "outputs": [
    {
     "name": "stdout",
     "output_type": "stream",
     "text": [
      "True is of type <class 'bool'>\n",
      "False is of type <class 'bool'>\n"
     ]
    }
   ],
   "source": [
    "a=True # Boolean True\n",
    "\n",
    "print(a, \"is of type\", type(a))\n",
    "\n",
    "a=False # Boolean False\n",
    "\n",
    "print(a, \"is of type\", type(a))"
   ]
  },
  {
   "cell_type": "markdown",
   "metadata": {},
   "source": [
    "**Aside:** It's worth bring up functions. Functions are just blocks of code which can be run on a provided input, complete some actions, and give a return value. We'll be using functions a lot, and they're some of the most ubiquitous coding tools out there. Here's some example syntax"
   ]
  },
  {
   "cell_type": "code",
   "execution_count": 25,
   "metadata": {},
   "outputs": [
    {
     "name": "stdout",
     "output_type": "stream",
     "text": [
      "Our function is about to complete!\n",
      "3\n",
      "Our function is about to complete!\n",
      "12\n",
      "Our function is about to complete!\n",
      "27\n"
     ]
    }
   ],
   "source": [
    "def ourFunction(x):\n",
    "    y=x*3\n",
    "    z=y*x\n",
    "    print(\"Our function is about to complete!\")\n",
    "    return z # Equivelant to return x*x*3\n",
    "\n",
    "print(ourFunction(1))\n",
    "print(ourFunction(2))\n",
    "print(ourFunction(3))\n"
   ]
  },
  {
   "cell_type": "markdown",
   "metadata": {},
   "source": [
    "Function declarations begin with `def` and then our function name, in this case `ourFunction` followed by `(arg1,arg2,...)` where arg1,arg2,... represents however many inputs we want our function to take in. In this case, we only took in one argument: x. Just as well, we could've taken in two or even three arguments. Finally, we include a colon at the end to mark the beginning of the main body of code. After the colon, all lines of code which belong to that function will be **indented** ending when we reach a line of code that isn't indented to match the function body. An **indent** in python is **4 spaces, not a tab**. This is often the bane of many new programmers. Jupyter is nice enough to automatically convert a tab press to 4 white spaces for you, but other programs may not be. Just be aware! For those of you that are used to other languages, you'll notice that python **does not use {} for function bodies** "
   ]
  },
  {
   "cell_type": "markdown",
   "metadata": {},
   "source": [
    "#### Sequences\n",
    "\n",
    "Next we have what're known as \"Sequence\" data types. These are incredibly robust and will appear quite frequently, so take note! We have 3 types: String (`str`), `list`, and `tuple`. They all are collections of elements, with Strings being restricted to being a collection of individual characters while lists and tuples can be composed of any elements. In order to access an element in the collection, you must refer to its \"index\" which is just the element's location within the collection. The first element is at index 0, the second at index 1, etc... "
   ]
  },
  {
   "cell_type": "code",
   "execution_count": 55,
   "metadata": {},
   "outputs": [
    {
     "name": "stdout",
     "output_type": "stream",
     "text": [
      "T\n",
      "h\n",
      "i\n",
      "s\n",
      "This is a String of type <class 'str'>\n",
      "This is also a String of type <class 'str'>\n",
      "This is still a String of type <class 'str'>\n",
      "\n",
      "1\n",
      "(2+1j)\n",
      "3.14\n",
      "Four\n",
      "[1, (2+1j), 3.14, 'Four'] is of type <class 'list'>\n",
      "\n",
      "One\n",
      "2.71\n",
      "(3+4j)\n",
      "4\n",
      "('One', 2.71, (3+4j), 4, 5, 6) is of type <class 'tuple'>\n"
     ]
    }
   ],
   "source": [
    "a=\"This is a String\" # String/str\n",
    "\n",
    "print(a[0]) # Access element at index 0\n",
    "print(a[1]) # Access element at index 1\n",
    "print(a[2]) # Access element at index 2\n",
    "print(a[3]) # Access element at index 3\n",
    "\n",
    "print(a, \"of type\", type(a))\n",
    "\n",
    "a='This is also a String' # String/str\n",
    "\n",
    "print(a, \"of type\", type(a))\n",
    "\n",
    "a='''This is still a String''' # String/str\n",
    "\n",
    "print(a, \"of type\", type(a))\n",
    "\n",
    "a=[1,2+1j,3.14,\"Four\"] # List/list\n",
    "\n",
    "print() # New line\n",
    "print(a[0]) # Access element at index 0\n",
    "print(a[1]) # Access element at index 1\n",
    "print(a[2]) # Access element at index 2\n",
    "print(a[3]) # Access element at index 3\n",
    "\n",
    "print(a, \"is of type\", type(a))\n",
    "\n",
    "a=(\"One\",2.71,3+4j,4,5,6) # Tuple/tuple\n",
    "\n",
    "print()\n",
    "print(a[0]) # Access element at index 0\n",
    "print(a[1]) # Access element at index 1\n",
    "print(a[2]) # Access element at index 2\n",
    "print(a[3]) # Access element at index 3\n",
    "\n",
    "print(a, \"is of type\", type(a))"
   ]
  },
  {
   "cell_type": "markdown",
   "metadata": {},
   "source": [
    "**Practice Problem:** A cupcake costs 0.75, a doughnut costs 1.50, and an eclair costs 2. Orders come in as tuples of the form x = (c, d, e) where c is the number of cupcakes the customer wants, d is the number of doughnuts and e is the number of eclairs. Make a program that, assuming x is a tuple of the given form, calculates the cost for an order."
   ]
  },
  {
   "cell_type": "code",
   "execution_count": 33,
   "metadata": {},
   "outputs": [
    {
     "name": "stdout",
     "output_type": "stream",
     "text": [
      "53.25\n",
      "57.5\n",
      "52.75\n"
     ]
    }
   ],
   "source": [
    "# Print out the correct final cost given x\n",
    "a=(15,20,6) # Expected cost is 53.25\n",
    "b=(10,32,1) # Expected cost is 57.50\n",
    "c=(13,6,17) # Expected cost is 52.75\n",
    "\n",
    "\n",
    "def calculateCost(x):\n",
    "    cost=0\n",
    "\n",
    "    #Start your code bellow\n",
    "    \n",
    "    \n",
    "    \n",
    "    \n",
    "    return cost\n",
    "# Code should end by here, but just press enter above to give yourself more space\n",
    "\n",
    "print(calculateCost(a))\n",
    "print(calculateCost(b))\n",
    "print(calculateCost(c))"
   ]
  },
  {
   "cell_type": "markdown",
   "metadata": {},
   "source": [
    "There's one final data type known as a dictionary (`dict`) which operates off of `key:value` pairs. "
   ]
  },
  {
   "cell_type": "code",
   "execution_count": 36,
   "metadata": {
    "scrolled": true
   },
   "outputs": [
    {
     "name": "stdout",
     "output_type": "stream",
     "text": [
      "{0: 'Zero', 1: 'One', 3: 'Three', 'Four': 4} is of type <class 'dict'>\n",
      "Zero\n",
      "One\n",
      "Three\n",
      "4\n"
     ]
    }
   ],
   "source": [
    "a={0:\"Zero\",1:\"One\", 3:\"Three\", \"Four\":4} # Dictionary/dict\n",
    "\n",
    "print(a, \"is of type\", type(a))\n",
    "\n",
    "print(a[0]) # Access value with KEY 0\n",
    "\n",
    "print(a[1]) # Access value with KEY 1\n",
    "\n",
    "#print(a[2]) # Access value with KEY 2, but no such value exists!\n",
    "\n",
    "print(a[3]) # Access value with KEY 3\n",
    "\n",
    "#print(a[\"3\"]) # Access value with KEY \"3\", but no such value exists!\n",
    "\n",
    "print(a[\"Four\"]) # Access value with KEY \"Four\"\n",
    "\n",
    "#print(a[\"four\"]) # Access value with KEY \"four\", but no such value exists!"
   ]
  },
  {
   "cell_type": "markdown",
   "metadata": {},
   "source": [
    "**Problem:** The shop wants to be able to change prices more easily in its program. Adjust your previous program to add a dictionary p that assigns to each of \"cupcake\", \"doughnut\", and \"eclair\" a cost value, and update the calculator to make use of the dictionary."
   ]
  },
  {
   "cell_type": "code",
   "execution_count": 34,
   "metadata": {},
   "outputs": [
    {
     "name": "stdout",
     "output_type": "stream",
     "text": [
      "0\n",
      "0\n",
      "0\n"
     ]
    }
   ],
   "source": [
    "p={} # Fill in with key:value pairs\n",
    "\n",
    "# Print out the correct final cost given x\n",
    "a=(15,20,6) # Expected cost is 53.25\n",
    "b=(10,32,1) # Expected cost is 57.50\n",
    "c=(13,6,17) # Expected cost is 52.75\n",
    "\n",
    "def costWithDict(x):\n",
    "    cost=0\n",
    "    #Start your code bellow\n",
    "    \n",
    "    \n",
    "    \n",
    "    \n",
    "    return cost\n",
    "# Code should end by here, but just press enter above to give yourself more space\n",
    "\n",
    "print(costWithDict(a))\n",
    "print(costWithDict(b))\n",
    "print(costWithDict(c))"
   ]
  },
  {
   "cell_type": "markdown",
   "metadata": {},
   "source": [
    "**Aside:** data types have a property known as *mutability* or its opposite, *immutability*. We say a data type is *mutable* when it can be modified after being created. It's important to remember that data types are simply encoded bits occupying memory somewhere in our machine. To say its *mutable* is to say that we can change its value mid-process without changing what entity we refer to (made clearer in example), while it is *immutable* if it cannot be modified after being created. The following are *immutable* data types: number values (including booleans), strings, tuples and frozensets. In this workshop we won't really touch frozensets, but it's worth noting that they, true to their name, are frozen and *immutable*. "
   ]
  },
  {
   "cell_type": "code",
   "execution_count": 32,
   "metadata": {},
   "outputs": [
    {
     "name": "stdout",
     "output_type": "stream",
     "text": [
      "x: 140732641809504\n",
      "y: 140732641809504\n",
      "y+1: 140732641809536\n",
      "x: 140732641809504\n"
     ]
    }
   ],
   "source": [
    "#Example of immutability\n",
    "\n",
    "x=10 # Initializing x with 10\n",
    "\n",
    "print(\"x:\",id(x)) # Printing x's ID\n",
    "\n",
    "y=x # Setting y=x\n",
    "\n",
    "print(\"y:\",id(y)) # Printing y's ID. Since y=x, y points to x\n",
    "\n",
    "y=y+1 # Changing y's value\n",
    "\n",
    "print(\"y+1:\",id(y)) # Since y no longer points to the value of x, its ID changes\n",
    "\n",
    "print(\"x:\",id(x)) # x is unaffected (original ID for comparison)"
   ]
  },
  {
   "cell_type": "markdown",
   "metadata": {},
   "source": [
    "### Control Flow\n",
    "\n",
    "#### Logic\n",
    "\n",
    "Conditionals and logic form the building blocks for more complex, and generally more useful, programs. We've already mentioned booleans `True` and `False`, but how do we use them? To manipulate them, we introduce the *logical operators*: `not`, `and`, and `or`. If you've used other programming languages, it may be a bit weird to see the *logical operators* be written words, and not a mess of symbols like `!`, `&&`, `||`, but python was made to be as readable as possible, and hence opted for written words instead. "
   ]
  },
  {
   "cell_type": "code",
   "execution_count": 39,
   "metadata": {},
   "outputs": [
    {
     "name": "stdout",
     "output_type": "stream",
     "text": [
      "False\n",
      "True\n",
      "False\n",
      "True\n"
     ]
    }
   ],
   "source": [
    "a= True\n",
    "b= False\n",
    "\n",
    "print(a and b) # True and False is False\n",
    "\n",
    "print(a or b) # True or False is True\n",
    "\n",
    "print(not a) # Not True is False\n",
    "\n",
    "print(not b) # Not False is True"
   ]
  },
  {
   "cell_type": "markdown",
   "metadata": {},
   "source": [
    "You aren't restricted to working with pure booleans either. Python has what's known as *comparison operators* which can be used in all sorts of situations and evaluates into booleans. Let's see them coded up."
   ]
  },
  {
   "cell_type": "code",
   "execution_count": 58,
   "metadata": {},
   "outputs": [
    {
     "name": "stdout",
     "output_type": "stream",
     "text": [
      "True\n",
      "False\n",
      "True\n",
      "False\n",
      "True\n",
      "False\n"
     ]
    }
   ],
   "source": [
    "a=3\n",
    "b=7\n",
    "c=3\n",
    "\n",
    "print(a==c) # A simple equality. Note that it uses 2 \"=\" signs to differentiate it from assignment\n",
    "\n",
    "print(a > 3) # Strictly greater than inequality. Note 3 is not strictly greater than 3 \n",
    "\n",
    "print(a >= 3) # Greater than or equal to. 3 is not strictly greater than 3, but is equal to 3\n",
    "\n",
    "print(b < a) # Strictly less than inequality\n",
    "\n",
    "print(a <= 3) # Less than or equal to.\n",
    "\n",
    "print(a!=3) # Not equal to\n",
    " "
   ]
  },
  {
   "cell_type": "markdown",
   "metadata": {},
   "source": [
    "#### Conditionals\n",
    "\n",
    "To harness these logical instruments, we use conditional code blocks such as `if`, `else`, and `elif`. Let's jump in!"
   ]
  },
  {
   "cell_type": "code",
   "execution_count": 70,
   "metadata": {},
   "outputs": [
    {
     "name": "stdout",
     "output_type": "stream",
     "text": [
      "Apparently a=c. Who would've thought?\n",
      "Yeah hopefully this gets printed, or else we have an issue\n",
      "I mean nothing else worked, so this is our default!\n"
     ]
    }
   ],
   "source": [
    "a=3\n",
    "b=7\n",
    "c=3\n",
    "\n",
    "if a==c: \n",
    "    print(\"Apparently a=c. Who would've thought?\")\n",
    "\n",
    "if a>3:\n",
    "    print(\"Well this really shouldn't be printed\")\n",
    "elif a>2:\n",
    "    print(\"Yeah hopefully this gets printed, or else we have an issue\")\n",
    "    \n",
    "if b==c:\n",
    "    print(\"If this gets printed either you messed with the values or this is broken\")\n",
    "elif b<=c:\n",
    "    print(\"This also is wrong. Just wrong.\")\n",
    "else:\n",
    "    print(\"I mean nothing else worked, so this is our default!\")"
   ]
  },
  {
   "cell_type": "markdown",
   "metadata": {},
   "source": [
    "**Problem:** The shop has had a rash of invalid orders with negative quantities of items being purchased. Implement a system to print \"Something went wrong!\" and return -1 if any of the quantities purchased are negative."
   ]
  },
  {
   "cell_type": "code",
   "execution_count": 37,
   "metadata": {},
   "outputs": [
    {
     "name": "stdout",
     "output_type": "stream",
     "text": [
      "0\n",
      "0\n",
      "0\n",
      "0\n",
      "0\n",
      "0\n",
      "0\n",
      "0\n",
      "0\n",
      "0\n"
     ]
    }
   ],
   "source": [
    "# Print out the correct final cost given x\n",
    "Inputs=((15,20,6),\n",
    "        (10,32,1),\n",
    "        (13,6,17),\n",
    "        (-15,20,6),\n",
    "        (10,-32,1),\n",
    "        (13,6,-17),\n",
    "        (15,-20,-6),\n",
    "        (-10,-32,-1),\n",
    "        (-13,-6,17),\n",
    "        (-15,20,-6))\n",
    "        \n",
    "\n",
    "def costWithLogic(x):\n",
    "    cost=0\n",
    "    #Start your code bellow\n",
    "    \n",
    "    \n",
    "    \n",
    "    \n",
    "    return cost\n",
    "# Code should end by here, but just press enter above to give yourself more space\n",
    "for x in Inputs:\n",
    "    print(costWithLogic(x)) # Only the first 3 should return positive values matching the ones in the last problem"
   ]
  },
  {
   "cell_type": "markdown",
   "metadata": {},
   "source": [
    "**Problem:** If a customer purchases at least a dozen items, at most half of which are cupcakes, then they get 25% off their order. Implement a logical control mechanism to apply this discount."
   ]
  },
  {
   "cell_type": "code",
   "execution_count": 43,
   "metadata": {},
   "outputs": [
    {
     "name": "stdout",
     "output_type": "stream",
     "text": [
      "15.75\n",
      "15.0\n",
      "13.75\n"
     ]
    }
   ],
   "source": [
    "# Print out the correct final cost given x\n",
    "a=(1,2,6) # Expected cost is 15.75\n",
    "b=(6,5,4) # Expected cost is 15.00\n",
    "c=(7,3,2) # Expected cost is 13.75\n",
    "\n",
    "def costWithDiscount(x):\n",
    "    cost=0\n",
    "    cost=.75*x[0]+1.5*x[1]+2*x[2]\n",
    "    #Start your code bellow\n",
    "    if((x[0]<=x[1]+x[2]) and (x[0]+x[1]+x[2]>=10)):\n",
    "        cost*=.75\n",
    "    \n",
    "    \n",
    "    return cost\n",
    "# Code should end by here, but just press enter above to give yourself more space\n",
    "\n",
    "print(costWithDiscount(a))\n",
    "print(costWithDiscount(b))\n",
    "print(costWithDiscount(c))"
   ]
  },
  {
   "cell_type": "markdown",
   "metadata": {},
   "source": [
    "Now our if/else/elif are great and all, but they aren't the best solution in every single situation. Suppose we wanted to output the name of the month N. We could well use a lot of if/elif statements..."
   ]
  },
  {
   "cell_type": "code",
   "execution_count": 76,
   "metadata": {},
   "outputs": [
    {
     "name": "stdout",
     "output_type": "stream",
     "text": [
      "Mar\n"
     ]
    }
   ],
   "source": [
    "MONTH=3\n",
    "\n",
    "if(MONTH==1):\n",
    "    print(\"Jan\")\n",
    "elif(MONTH==2):\n",
    "    print(\"Feb\")\n",
    "elif(MONTH==3):\n",
    "    print(\"Mar\")\n",
    "#\n",
    "#\n",
    "#\n",
    "#\n",
    "#\n",
    "#\n",
    "#\n",
    "elif(MONTH==12):\n",
    "    print(\"Dec\")\n",
    "else:\n",
    "    print(\"Some default text\")"
   ]
  },
  {
   "cell_type": "markdown",
   "metadata": {},
   "source": [
    "That's messy. There's a lot of overhead for a relatively simple task, but how could we do it better? Well, a dictionary! You may initially want to use a list or tuple, and that's a good instinct, but they're not as flexible as dictionaries. For one, in our case we have our months start at 1 and end at 12, but a list or tuple would index from 0 to 11. This is actually very simple to get around (we could just index by `MONTH-1`) but what if we had the opposite problem: given the name of the month, find its order in the year. Since we couldn't index by a String, lists and tuples wouldn't work. Dictionaries, however, have no such limitation! In general, if you are going to have many conditionals which simply evaluate the value of a variable against a fixed set of results, it may be worth switching to a dictionary."
   ]
  },
  {
   "cell_type": "code",
   "execution_count": 80,
   "metadata": {},
   "outputs": [
    {
     "name": "stdout",
     "output_type": "stream",
     "text": [
      "{1: 'January', 2: 'February', 3: 'March', 4: 'April', 5: 'May', 6: 'June', 7: 'July', 8: 'August', 9: 'September', 10: 'October', 11: 'November', 12: 'December'}\n",
      "\n",
      "March\n"
     ]
    }
   ],
   "source": [
    "switcher = {\n",
    "        1: \"January\",\n",
    "        2: \"February\",\n",
    "        3: \"March\",\n",
    "        4: \"April\",\n",
    "        5: \"May\",\n",
    "        6: \"June\",\n",
    "        7: \"July\",\n",
    "        8: \"August\",\n",
    "        9: \"September\",\n",
    "        10: \"October\",\n",
    "        11: \"November\",\n",
    "        12: \"December\"\n",
    "    }\n",
    "print(switcher)\n",
    "print()\n",
    "print(switcher[MONTH])"
   ]
  },
  {
   "cell_type": "markdown",
   "metadata": {},
   "source": [
    "And we could just as easily invert it and switch the keys and values"
   ]
  },
  {
   "cell_type": "code",
   "execution_count": 81,
   "metadata": {},
   "outputs": [
    {
     "name": "stdout",
     "output_type": "stream",
     "text": [
      "{'January': 1, 'February': 2, 'March': 3, 'April': 4, 'May': 5, 'June': 6, 'July': 7, 'August': 8, 'September': 9, 'October': 10, 'November': 11, 'December': 12}\n",
      "\n",
      "8\n"
     ]
    }
   ],
   "source": [
    "inv_switcher = {v: k for k, v in switcher.items()} # Don't worry too much about the syntax here. A bit beyond our scope\n",
    "\n",
    "print(inv_switcher)\n",
    "print()\n",
    "print(inv_switcher[\"August\"])\n"
   ]
  },
  {
   "cell_type": "markdown",
   "metadata": {},
   "source": [
    "#### Loops\n",
    "\n",
    "The final pieces of the control flow puzzle are loops. First, the *for* loop. A *for* loop iterates over a collection of items. Let's make some valid collections and see how the for loop behaves."
   ]
  },
  {
   "cell_type": "code",
   "execution_count": 86,
   "metadata": {},
   "outputs": [
    {
     "name": "stdout",
     "output_type": "stream",
     "text": [
      "1\n",
      "2\n",
      "3\n",
      "\n",
      "4\n",
      "5\n",
      "6\n",
      "\n",
      "S\n",
      "e\n",
      "v\n",
      "e\n",
      "n\n"
     ]
    }
   ],
   "source": [
    "a=(1,2,3)\n",
    "b=[4,5,6]\n",
    "c=\"Seven\"\n",
    "\n",
    "for x in a: # We make a variable x which will store one element in \"a\" at a time\n",
    "    print(x)\n",
    "\n",
    "print()\n",
    "\n",
    "for y in b: # The name of the variable doesn't actually matter\n",
    "    print(y)\n",
    "\n",
    "print()\n",
    "\n",
    "for x in c: # Strings are perfectly valid collections to iterate over!\n",
    "    print(x)"
   ]
  },
  {
   "cell_type": "markdown",
   "metadata": {},
   "source": [
    "But what if you don't actually care about the elements of the collection, and instead you just want to re-run code several times. Instead of going through the effort of making a collection with the exact size of iterations that you need to run, you can use a handy built in constructor `range(n)`."
   ]
  },
  {
   "cell_type": "code",
   "execution_count": 99,
   "metadata": {},
   "outputs": [
    {
     "name": "stdout",
     "output_type": "stream",
     "text": [
      "range(0, 3) is of type <class 'range'>\n",
      "0\n",
      "1\n",
      "2\n"
     ]
    }
   ],
   "source": [
    "a=range(3)\n",
    "print(a, \"is of type\", type(a))\n",
    "\n",
    "for x in a:\n",
    "    print(x)"
   ]
  },
  {
   "cell_type": "markdown",
   "metadata": {},
   "source": [
    "It indexes like we'd expect for the sake of using collections. We don't have to start at 0 though. Let's say we wanted to index from 3 to 10. All we have to do is add another argument."
   ]
  },
  {
   "cell_type": "code",
   "execution_count": 101,
   "metadata": {},
   "outputs": [
    {
     "name": "stdout",
     "output_type": "stream",
     "text": [
      "3\n",
      "4\n",
      "5\n",
      "6\n",
      "7\n",
      "8\n",
      "9\n"
     ]
    }
   ],
   "source": [
    "for x in range(3,10):\n",
    "    print(x)"
   ]
  },
  {
   "cell_type": "markdown",
   "metadata": {},
   "source": [
    "Notice how it increments one at a time, meaning we go from 3 to 4 to 5 and so on. What if we wanted only every other index? Or every third? Well, we can increase the *step size* very easily with the introduction of a third argument."
   ]
  },
  {
   "cell_type": "code",
   "execution_count": 4,
   "metadata": {},
   "outputs": [
    {
     "name": "stdout",
     "output_type": "stream",
     "text": [
      "Every 2\n",
      "3\n",
      "5\n",
      "7\n",
      "9\n",
      "\n",
      "Every 3\n",
      "3\n",
      "6\n",
      "9\n"
     ]
    }
   ],
   "source": [
    "print(\"Every 2\")\n",
    "\n",
    "for x in range(3,10,2):\n",
    "    print(x)\n",
    "\n",
    "print()\n",
    "print(\"Every 3\")\n",
    "\n",
    "for x in range(3,10,3):\n",
    "    print(x)\n"
   ]
  },
  {
   "cell_type": "markdown",
   "metadata": {},
   "source": [
    "Let's say that we wanted to compute the sum of the first 100 positive integers. Here's how we would accomplish that."
   ]
  },
  {
   "cell_type": "code",
   "execution_count": 44,
   "metadata": {},
   "outputs": [
    {
     "name": "stdout",
     "output_type": "stream",
     "text": [
      "5050\n"
     ]
    }
   ],
   "source": [
    "sum=0 # A variable to keep track of whatever the current running total is\n",
    "\n",
    "for x in range(101):\n",
    "    sum+=x\n",
    "print(sum)"
   ]
  },
  {
   "cell_type": "markdown",
   "metadata": {},
   "source": [
    "**Problem:** For the numbers 1 through 100, output \"Fizz\" on every third number and \"Buzz\" on every fifth, except every fifteenth, on which you should output \"FizzBuzz\".  Output the number itself otherwise."
   ]
  },
  {
   "cell_type": "code",
   "execution_count": 47,
   "metadata": {},
   "outputs": [],
   "source": [
    "# Your code here\n",
    "    \n",
    "    \n",
    "    \n",
    "    \n"
   ]
  },
  {
   "cell_type": "markdown",
   "metadata": {},
   "source": [
    "**Problem:** For the **even** numbers 1 through 100, output \"Fizz\" on every third number and \"Buzz\" on every fifth, except every fifteenth, on which you should output \"FizzBuzz\".  Output the number itself otherwise."
   ]
  },
  {
   "cell_type": "code",
   "execution_count": 48,
   "metadata": {},
   "outputs": [],
   "source": [
    "# Your code here\n",
    "\n",
    "\n",
    "\n",
    "    \n"
   ]
  }
 ],
 "metadata": {
  "kernelspec": {
   "display_name": "Python 3",
   "language": "python",
   "name": "python3"
  },
  "language_info": {
   "codemirror_mode": {
    "name": "ipython",
    "version": 3
   },
   "file_extension": ".py",
   "mimetype": "text/x-python",
   "name": "python",
   "nbconvert_exporter": "python",
   "pygments_lexer": "ipython3",
   "version": "3.7.3"
  }
 },
 "nbformat": 4,
 "nbformat_minor": 2
}
